{
 "cells": [
  {
   "cell_type": "markdown",
   "metadata": {},
   "source": [
    "# Step 1: Importing the libraries\n",
    "\n",
    "**第 1 步：导入库**\n",
    "> Numpy 包包含数学计算函数\n",
    "\n",
    "> Pandas 用于导入和管理数据集"
   ]
  },
  {
   "cell_type": "code",
   "execution_count": 1,
   "metadata": {},
   "outputs": [],
   "source": [
    "import numpy as np\n",
    "import pandas as pd"
   ]
  },
  {
   "cell_type": "markdown",
   "metadata": {},
   "source": [
    "# Step 2: Importing dataset\n",
    "**第 2 步：导入数据集**\n",
    "> 数据集通常是 .csv 格式\n",
    "\n",
    "> CSV 文件以文本形式保存表格数据\n",
    "\n",
    "> 文件的每一行是一条数据记录\n",
    "\n",
    "> 使用 Pandas 的 read_csv 方法读取本地 csv 文件为一个数据帧并从中制作自变量和因变量的矩阵向量"
   ]
  },
  {
   "cell_type": "code",
   "execution_count": 4,
   "metadata": {},
   "outputs": [],
   "source": [
    "dataset = pd.read_csv('datasets/Data.csv')\n",
    "X = dataset.iloc[ : , :-1].values\n",
    "Y = dataset.iloc[ : , 3].values"
   ]
  },
  {
   "cell_type": "markdown",
   "metadata": {},
   "source": [
    "# Step 3: Handling the missing data\n",
    "**第 3 步：处理丢失数据**\n",
    "> 可以用整列的平均值或中间值替换丢失的数据\n",
    "\n",
    "> 使用 sklearn.preprocessing 库中的 Imputer 类来完成这项任务"
   ]
  },
  {
   "cell_type": "code",
   "execution_count": 5,
   "metadata": {},
   "outputs": [],
   "source": [
    "from sklearn.preprocessing import Imputer\n",
    "imputer = Imputer(missing_values='NaN', strategy='mean', axis=0)\n",
    "imputer = imputer.fit(X[ : , 1:3])\n",
    "X[ : , 1:3] = imputer.transform(X[ : , 1:3])"
   ]
  },
  {
   "cell_type": "markdown",
   "metadata": {},
   "source": [
    "# Step 4: Encoding categorical data\n",
    "**第 4 步：解析分类数据**\n",
    "\n",
    "> 分类数据指的是含有标签值而不是数字值的变量\n",
    "\n",
    "> 无法用于模型的数值计算，需要解析成数字\n",
    "\n",
    "> 使用 sklearn.preprocessing 库中的 LabelEncoder 类来完成这项任务"
   ]
  },
  {
   "cell_type": "code",
   "execution_count": 7,
   "metadata": {},
   "outputs": [],
   "source": [
    "from sklearn.preprocessing import LabelEncoder, OneHotEncoder\n",
    "labelencoder_X = LabelEncoder()\n",
    "X[ : , 0] = labelencoder_X.fit_transform(X[ : , 0])"
   ]
  },
  {
   "cell_type": "markdown",
   "metadata": {},
   "source": [
    "## Creating a dummy variable\n",
    "**创建虚拟变量**"
   ]
  },
  {
   "cell_type": "code",
   "execution_count": 9,
   "metadata": {},
   "outputs": [],
   "source": [
    "onehotencoder = OneHotEncoder(categorical_features=[0])\n",
    "X = onehotencoder.fit_transform(X).toarray()\n",
    "labelencoder_Y = LabelEncoder()\n",
    "Y = labelencoder_Y.fit_transform(Y)"
   ]
  },
  {
   "cell_type": "markdown",
   "metadata": {},
   "source": [
    "# Step 5: Splitting the datasets into training sets and Test sets\n",
    "**拆分数据集为训练集合和测试集合**\n",
    "\n",
    "> 把数据集拆分成两个\n",
    "\n",
    "> 一个是用来训练模型的训练集合，另一个是用来验证模型的测试集合\n",
    "\n",
    "> 两者比例一般是 8 : 2 \n",
    "\n",
    "> 使用 sklearn.model_selection 中的 train_test_split 来完成这项任务"
   ]
  },
  {
   "cell_type": "code",
   "execution_count": 16,
   "metadata": {},
   "outputs": [],
   "source": [
    "from sklearn.model_selection import train_test_split\n",
    "X_train, X_test, Y_train, Y_test = train_test_split(X, Y, test_size=0.2, random_state=0)"
   ]
  },
  {
   "cell_type": "markdown",
   "metadata": {},
   "source": [
    "# Step 6: Feature Scalling\n",
    "**第 6 步：特征量化**\n",
    "\n",
    "> 大部分模型算法使用两点间的欧氏距离表示\n",
    "\n",
    "> 但是本次的特征在幅度、单位和范围姿态问题上变化很大\n",
    "\n",
    "> 在距离计算中，高幅度特征比低幅度特征权重更大。可用特征标准化或 Z 值归一化解决\n",
    "\n",
    "> 使用 sklearn.preprocessing 中的 StandardScalar 类来完成这项任务"
   ]
  },
  {
   "cell_type": "code",
   "execution_count": 17,
   "metadata": {},
   "outputs": [],
   "source": [
    "from sklearn.preprocessing import StandardScaler\n",
    "sc_X = StandardScaler()\n",
    "X_train = sc_X.fit_transform(X_train)\n",
    "X_test = sc_X.fit_transform(X_test)"
   ]
  }
 ],
 "metadata": {
  "kernelspec": {
   "display_name": "Python 3",
   "language": "python",
   "name": "python3"
  },
  "language_info": {
   "codemirror_mode": {
    "name": "ipython",
    "version": 3
   },
   "file_extension": ".py",
   "mimetype": "text/x-python",
   "name": "python",
   "nbconvert_exporter": "python",
   "pygments_lexer": "ipython3",
   "version": "3.5.0"
  }
 },
 "nbformat": 4,
 "nbformat_minor": 2
}
